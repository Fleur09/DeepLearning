{
  "nbformat": 4,
  "nbformat_minor": 0,
  "metadata": {
    "colab": {
      "name": "Deep_Learning_3fev.ipynb",
      "provenance": [],
      "collapsed_sections": [],
      "authorship_tag": "ABX9TyPkueJ95qRu3DmR3/ZSJlwK",
      "include_colab_link": true
    },
    "kernelspec": {
      "name": "python3",
      "display_name": "Python 3"
    },
    "accelerator": "GPU"
  },
  "cells": [
    {
      "cell_type": "markdown",
      "metadata": {
        "id": "view-in-github",
        "colab_type": "text"
      },
      "source": [
        "<a href=\"https://colab.research.google.com/github/Fleur09/DeepLearning/blob/master/Deep_Learning_3fev.ipynb\" target=\"_parent\"><img src=\"https://colab.research.google.com/assets/colab-badge.svg\" alt=\"Open In Colab\"/></a>"
      ]
    },
    {
      "cell_type": "code",
      "metadata": {
        "id": "dbaRHurkfmi5",
        "colab_type": "code",
        "outputId": "52c8d6e2-793f-41dc-858e-9add90d5e559",
        "colab": {
          "base_uri": "https://localhost:8080/",
          "height": 286
        }
      },
      "source": [
        "!nvidia-smi\n"
      ],
      "execution_count": 21,
      "outputs": [
        {
          "output_type": "stream",
          "text": [
            "Mon Feb  3 15:52:34 2020       \n",
            "+-----------------------------------------------------------------------------+\n",
            "| NVIDIA-SMI 440.44       Driver Version: 418.67       CUDA Version: 10.1     |\n",
            "|-------------------------------+----------------------+----------------------+\n",
            "| GPU  Name        Persistence-M| Bus-Id        Disp.A | Volatile Uncorr. ECC |\n",
            "| Fan  Temp  Perf  Pwr:Usage/Cap|         Memory-Usage | GPU-Util  Compute M. |\n",
            "|===============================+======================+======================|\n",
            "|   0  Tesla P100-PCIE...  Off  | 00000000:00:04.0 Off |                    0 |\n",
            "| N/A   37C    P0    32W / 250W |    357MiB / 16280MiB |      0%      Default |\n",
            "+-------------------------------+----------------------+----------------------+\n",
            "                                                                               \n",
            "+-----------------------------------------------------------------------------+\n",
            "| Processes:                                                       GPU Memory |\n",
            "|  GPU       PID   Type   Process name                             Usage      |\n",
            "|=============================================================================|\n",
            "+-----------------------------------------------------------------------------+\n"
          ],
          "name": "stdout"
        }
      ]
    },
    {
      "cell_type": "code",
      "metadata": {
        "id": "6E3fqYPOgG7h",
        "colab_type": "code",
        "colab": {}
      },
      "source": [
        "import tensorflow as tf\n",
        "import numpy as np"
      ],
      "execution_count": 0,
      "outputs": []
    },
    {
      "cell_type": "code",
      "metadata": {
        "id": "ogACt0umgHPo",
        "colab_type": "code",
        "outputId": "d6dfaaaa-b10d-4bae-be2b-df3f8dc96db0",
        "colab": {
          "base_uri": "https://localhost:8080/",
          "height": 84
        }
      },
      "source": [
        "mnist = tf.contrib.learn.datasets.load_dataset(\"mnist\") \n",
        "train_data = mnist.train.images # Returns np.array \n",
        "train_labels = np.asarray(mnist.train.labels , dtype=np.int32) \n",
        "eval_data = mnist.test.images # Returns np.array \n",
        "eval_labels = np.asarray(mnist.test.labels , dtype=np.int32)\n"
      ],
      "execution_count": 23,
      "outputs": [
        {
          "output_type": "stream",
          "text": [
            "Extracting MNIST-data/train-images-idx3-ubyte.gz\n",
            "Extracting MNIST-data/train-labels-idx1-ubyte.gz\n",
            "Extracting MNIST-data/t10k-images-idx3-ubyte.gz\n",
            "Extracting MNIST-data/t10k-labels-idx1-ubyte.gz\n"
          ],
          "name": "stdout"
        }
      ]
    },
    {
      "cell_type": "code",
      "metadata": {
        "id": "LyEJeSfygHWR",
        "colab_type": "code",
        "outputId": "1a2d6039-84b8-4f96-b411-e3973bfdc9f4",
        "colab": {
          "base_uri": "https://localhost:8080/",
          "height": 34
        }
      },
      "source": [
        "print(train_data.shape)"
      ],
      "execution_count": 24,
      "outputs": [
        {
          "output_type": "stream",
          "text": [
            "(55000, 784)\n"
          ],
          "name": "stdout"
        }
      ]
    },
    {
      "cell_type": "code",
      "metadata": {
        "id": "BlJsF-nPgjbj",
        "colab_type": "code",
        "outputId": "42501f17-8b8f-4165-945d-c28695731962",
        "colab": {
          "base_uri": "https://localhost:8080/",
          "height": 433
        }
      },
      "source": [
        "import matplotlib.pyplot as plt\n",
        "\n",
        "for i in range (0,10):\n",
        "  im = np.reshape(train_data[i],(28,28))\n",
        "  plt.imshow(im)\n",
        "  print(\"label=\"+str(train_labels[i]))\n",
        "  #plt.show()"
      ],
      "execution_count": 25,
      "outputs": [
        {
          "output_type": "stream",
          "text": [
            "label=7\n",
            "label=3\n",
            "label=4\n",
            "label=6\n",
            "label=1\n",
            "label=8\n",
            "label=1\n",
            "label=0\n",
            "label=9\n",
            "label=8\n"
          ],
          "name": "stdout"
        },
        {
          "output_type": "display_data",
          "data": {
            "image/png": "[encoded data removed]",
            "text/plain": [
              "<Figure size 432x288 with 1 Axes>"
            ]
          },
          "metadata": {
            "tags": []
          }
        }
      ]
    },
    {
      "cell_type": "code",
      "metadata": {
        "id": "LzpPvXB7gjeO",
        "colab_type": "code",
        "outputId": "7d63afe1-055f-48e8-e5f4-e9c7acacd805",
        "colab": {
          "base_uri": "https://localhost:8080/",
          "height": 265
        }
      },
      "source": [
        "for i in range (0,10):\n",
        "  im = np.reshape(train_data[train_labels==i,:][0],(28,28))\n",
        "  plt.imshow(im)\n",
        "  #plt.show()"
      ],
      "execution_count": 26,
      "outputs": [
        {
          "output_type": "display_data",
          "data": {
            "image/png": "[encoded data removed]",
            "text/plain": [
              "<Figure size 432x288 with 1 Axes>"
            ]
          },
          "metadata": {
            "tags": []
          }
        }
      ]
    },
    {
      "cell_type": "code",
      "metadata": {
        "id": "JRbvct1Qgjg-",
        "colab_type": "code",
        "colab": {}
      },
      "source": [
        "data=tf.placeholder(tf.float32, shape=(None, 28*28))\n",
        "label=tf.placeholder(tf.float32 , shape=(None, 10)) # None car on connait pas le nb de batch et 10 car... (on encode en 0001000000)"
      ],
      "execution_count": 0,
      "outputs": []
    },
    {
      "cell_type": "code",
      "metadata": {
        "id": "sFT7-5IwgjjX",
        "colab_type": "code",
        "colab": {}
      },
      "source": [
        "def weight_variable(shape):\n",
        "  initial = tf.truncated_normal(shape, stddev=0.01)\n",
        "  return tf.Variable(initial)\n",
        "\n",
        "def bias_variable(shape):\n",
        "  initial= tf.constant(0.0, shape=shape)\n",
        "  return tf.Variable(initial)\n",
        "\n",
        "W_fcl1=weight_variable([28*28, 128])\n",
        "b_fcl1=bias_variable([128])\n",
        "p1=tf.nn.tanh(tf.matmul(data, W_fcl1)+b_fcl1)"
      ],
      "execution_count": 0,
      "outputs": []
    },
    {
      "cell_type": "code",
      "metadata": {
        "id": "DPpErBSVgjl2",
        "colab_type": "code",
        "colab": {}
      },
      "source": [
        "W_fcl2=weight_variable([128, 64]) # 128 est le nbr de sorties de la couche précédente, 64 est arbitraire\n",
        "b_fcl2=bias_variable([64])\n",
        "p2=tf.nn.tanh(tf.matmul(p1, W_fcl2)+b_fcl2)"
      ],
      "execution_count": 0,
      "outputs": []
    },
    {
      "cell_type": "code",
      "metadata": {
        "id": "UAvJdAwEp26S",
        "colab_type": "code",
        "colab": {}
      },
      "source": [
        "W_fcl3=weight_variable([64, 10]) \n",
        "b_fcl3=bias_variable([10])\n",
        "p3=tf.matmul(p2, W_fcl3)+b_fcl3"
      ],
      "execution_count": 0,
      "outputs": []
    },
    {
      "cell_type": "code",
      "metadata": {
        "id": "f6kOwTNwp287",
        "colab_type": "code",
        "colab": {}
      },
      "source": [
        "softmax_loss=tf.reduce_mean(\n",
        "    tf.nn.softmax_cross_entropy_with_logits(labels=label, logits=p3))"
      ],
      "execution_count": 0,
      "outputs": []
    },
    {
      "cell_type": "code",
      "metadata": {
        "id": "_S5BEo_pp2_6",
        "colab_type": "code",
        "colab": {}
      },
      "source": [
        "optimizer = tf.train.GradientDescentOptimizer(0.01)\n",
        "train = optimizer.minimize(softmax_loss)\n",
        "\n",
        "sess=tf.Session()\n",
        "init=tf.initialize_all_variables()\n",
        "sess.run(init)"
      ],
      "execution_count": 0,
      "outputs": []
    },
    {
      "cell_type": "code",
      "metadata": {
        "id": "niiYuIaEp3Co",
        "colab_type": "code",
        "colab": {}
      },
      "source": [
        "#Vector 42 x (28*28)\n",
        "#Labels 42 x (10)"
      ],
      "execution_count": 0,
      "outputs": []
    },
    {
      "cell_type": "code",
      "metadata": {
        "id": "QpfR_y96p3FW",
        "colab_type": "code",
        "colab": {}
      },
      "source": [
        "import random\n",
        "\n",
        "def getTrainBatch(size):\n",
        "  z=np.zeros((size, 28*28))\n",
        "  l=np.zeros((size,10))\n",
        "  for i in range(0, size):\n",
        "    r=random.randint(0, train_data.shape[0]-1)\n",
        "    z[i]=train_data[r]\n",
        "    l[i, train_labels[r]]=1\n",
        "  return z, l\n"
      ],
      "execution_count": 0,
      "outputs": []
    },
    {
      "cell_type": "code",
      "metadata": {
        "id": "UkzEdXvTp3IL",
        "colab_type": "code",
        "colab": {}
      },
      "source": [
        "for i in range(10000):\n",
        "  im, l=getTrainBatch(42)\n",
        "  #tmp=sess.run(train, feed_dict={data:im, label:l})   # si on veut activer seulement p3 on met p3 à la place de train\n",
        "  #tmp   Ici si on met train on ne retourne rien\n",
        "  # donc on met...\n",
        "  loss=sess.run([softmax_loss,train], feed_dict={data:im, label:l}) \n",
        "  #print(loss)\n",
        "\n",
        "  if i%1000==0:\n",
        "    #Base de test\n",
        "    pred=sess.run(p3, feed_dict={data:eval_data}) \n",
        "    argmax=np.argmax(pred, axis=1)\n",
        "\n"
      ],
      "execution_count": 0,
      "outputs": []
    },
    {
      "cell_type": "code",
      "metadata": {
        "id": "TnZ9qufqwCY5",
        "colab_type": "code",
        "colab": {}
      },
      "source": [
        "argmax"
      ],
      "execution_count": 0,
      "outputs": []
    },
    {
      "cell_type": "code",
      "metadata": {
        "id": "8FD53uvjwCb8",
        "colab_type": "code",
        "colab": {}
      },
      "source": [
        ""
      ],
      "execution_count": 0,
      "outputs": []
    },
    {
      "cell_type": "code",
      "metadata": {
        "id": "-T5TaT3UwCd0",
        "colab_type": "code",
        "colab": {}
      },
      "source": [
        ""
      ],
      "execution_count": 0,
      "outputs": []
    }
  ]
}